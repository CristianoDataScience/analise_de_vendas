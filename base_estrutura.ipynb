{
  "nbformat": 4,
  "nbformat_minor": 0,
  "metadata": {
    "colab": {
      "provenance": [],
      "collapsed_sections": [],
      "mount_file_id": "1UTVMFoSN_S8wrLQQV_YYdT-zSv97eJCb",
      "authorship_tag": "ABX9TyMKzWYCVlr7BCLf+IsWENko",
      "include_colab_link": true
    },
    "kernelspec": {
      "name": "python3",
      "display_name": "Python 3"
    },
    "language_info": {
      "name": "python"
    }
  },
  "cells": [
    {
      "cell_type": "markdown",
      "metadata": {
        "id": "view-in-github",
        "colab_type": "text"
      },
      "source": [
        "<a href=\"https://colab.research.google.com/github/CristianoDataScience/analise_de_vendas/blob/main/base_estrutura.ipynb\" target=\"_parent\"><img src=\"https://colab.research.google.com/assets/colab-badge.svg\" alt=\"Open In Colab\"/></a>"
      ]
    },
    {
      "cell_type": "markdown",
      "source": [
        "## Importando Bibliotecas"
      ],
      "metadata": {
        "id": "I_F3xuMfcYnq"
      }
    },
    {
      "cell_type": "code",
      "execution_count": 1,
      "metadata": {
        "id": "WaLsCgjscSVb"
      },
      "outputs": [],
      "source": [
        "import pandas as pd\n",
        "import os"
      ]
    },
    {
      "cell_type": "code",
      "source": [
        "diretorio = '/content/drive/MyDrive/Trabalho_IGI_Base_Dados/BASE_TP'"
      ],
      "metadata": {
        "id": "h65uTrS3c1Wt"
      },
      "execution_count": 2,
      "outputs": []
    },
    {
      "cell_type": "code",
      "source": [
        "list_df = [] #Gerando lista\n",
        "list_path = os.listdir(diretorio) #Verificando diretorio path "
      ],
      "metadata": {
        "id": "hJUhVW6jc_v9"
      },
      "execution_count": 3,
      "outputs": []
    },
    {
      "cell_type": "code",
      "source": [
        "list_path[:5] #Analisando os primeiros arquivos csv"
      ],
      "metadata": {
        "colab": {
          "base_uri": "https://localhost:8080/"
        },
        "id": "6SwKGV4XdNer",
        "outputId": "238e3434-6d2b-413a-e62f-92f67fd80d5b"
      },
      "execution_count": 4,
      "outputs": [
        {
          "output_type": "execute_result",
          "data": {
            "text/plain": [
              "['2020-09-11.csv',\n",
              " '2020-02-18.csv',\n",
              " '2020-05-11.csv',\n",
              " '2020-12-21.csv',\n",
              " '2020-09-05.csv']"
            ]
          },
          "metadata": {},
          "execution_count": 4
        }
      ]
    },
    {
      "cell_type": "code",
      "source": [
        "list_df = []\n",
        "for arquivo in list_path:\n",
        "  local_arquivo = os.path.join(diretorio, arquivo)\n",
        "  df = pd.read_csv(local_arquivo, sep='|', encoding='latin-1')\n",
        "  list_df.append(df)\n",
        "df_vendas = pd.concat(list_df)\n"
      ],
      "metadata": {
        "id": "bqKcl0DIdTLT"
      },
      "execution_count": 9,
      "outputs": []
    },
    {
      "cell_type": "code",
      "source": [
        "df_vendas[:10]"
      ],
      "metadata": {
        "colab": {
          "base_uri": "https://localhost:8080/",
          "height": 563
        },
        "id": "_mdEnBK3e4yG",
        "outputId": "92c85fa7-40ce-4b8f-a76c-84bd2e934780"
      },
      "execution_count": 11,
      "outputs": [
        {
          "output_type": "execute_result",
          "data": {
            "text/plain": [
              "   cod_pessoa data_coleta     genero data_nascimento animal_estimacao  \\\n",
              "0    10141728  2020-09-11   Feminino      1990-08-16             gato   \n",
              "1    10142960  2020-09-11  Masculino      1962-09-04         cachorro   \n",
              "2    10143039  2020-09-11  Masculino      1988-09-21            peixe   \n",
              "0    10143398  2020-02-18  Masculino      1995-05-12         cachorro   \n",
              "0    10142561  2020-05-11  Masculino      1992-01-12            peixe   \n",
              "1    10142954  2020-05-11  Masculino      1999-05-17             gato   \n",
              "2    10143177  2020-05-11  Masculino      1972-11-18         cachorro   \n",
              "3    10143525  2020-05-11   Feminino      1969-03-19        tartaruga   \n",
              "0    10142020  2020-12-21   Feminino      1973-08-02             gato   \n",
              "1    10142211  2020-12-21  Masculino      1995-12-16            peixe   \n",
              "\n",
              "      clima bebida_favorita             hobbies  \n",
              "0  moderado            Café    Praticar esporte  \n",
              "1      frio    refrigerante         Assistir TV  \n",
              "2      frio            Café      Escutar música  \n",
              "0      frio            Água      Pintar quadros  \n",
              "0    quente             Chá      Pintar quadros  \n",
              "1      frio             Chá    Praticar esporte  \n",
              "2  moderado             Chá      Pintar quadros  \n",
              "3      frio            Café  Aprender algo novo  \n",
              "0    quente    refrigerante              Dormir  \n",
              "1      frio            Água         Assistir TV  "
            ],
            "text/html": [
              "\n",
              "  <div id=\"df-4fe52883-f59d-4161-a151-cf847305e62f\">\n",
              "    <div class=\"colab-df-container\">\n",
              "      <div>\n",
              "<style scoped>\n",
              "    .dataframe tbody tr th:only-of-type {\n",
              "        vertical-align: middle;\n",
              "    }\n",
              "\n",
              "    .dataframe tbody tr th {\n",
              "        vertical-align: top;\n",
              "    }\n",
              "\n",
              "    .dataframe thead th {\n",
              "        text-align: right;\n",
              "    }\n",
              "</style>\n",
              "<table border=\"1\" class=\"dataframe\">\n",
              "  <thead>\n",
              "    <tr style=\"text-align: right;\">\n",
              "      <th></th>\n",
              "      <th>cod_pessoa</th>\n",
              "      <th>data_coleta</th>\n",
              "      <th>genero</th>\n",
              "      <th>data_nascimento</th>\n",
              "      <th>animal_estimacao</th>\n",
              "      <th>clima</th>\n",
              "      <th>bebida_favorita</th>\n",
              "      <th>hobbies</th>\n",
              "    </tr>\n",
              "  </thead>\n",
              "  <tbody>\n",
              "    <tr>\n",
              "      <th>0</th>\n",
              "      <td>10141728</td>\n",
              "      <td>2020-09-11</td>\n",
              "      <td>Feminino</td>\n",
              "      <td>1990-08-16</td>\n",
              "      <td>gato</td>\n",
              "      <td>moderado</td>\n",
              "      <td>Café</td>\n",
              "      <td>Praticar esporte</td>\n",
              "    </tr>\n",
              "    <tr>\n",
              "      <th>1</th>\n",
              "      <td>10142960</td>\n",
              "      <td>2020-09-11</td>\n",
              "      <td>Masculino</td>\n",
              "      <td>1962-09-04</td>\n",
              "      <td>cachorro</td>\n",
              "      <td>frio</td>\n",
              "      <td>refrigerante</td>\n",
              "      <td>Assistir TV</td>\n",
              "    </tr>\n",
              "    <tr>\n",
              "      <th>2</th>\n",
              "      <td>10143039</td>\n",
              "      <td>2020-09-11</td>\n",
              "      <td>Masculino</td>\n",
              "      <td>1988-09-21</td>\n",
              "      <td>peixe</td>\n",
              "      <td>frio</td>\n",
              "      <td>Café</td>\n",
              "      <td>Escutar música</td>\n",
              "    </tr>\n",
              "    <tr>\n",
              "      <th>0</th>\n",
              "      <td>10143398</td>\n",
              "      <td>2020-02-18</td>\n",
              "      <td>Masculino</td>\n",
              "      <td>1995-05-12</td>\n",
              "      <td>cachorro</td>\n",
              "      <td>frio</td>\n",
              "      <td>Água</td>\n",
              "      <td>Pintar quadros</td>\n",
              "    </tr>\n",
              "    <tr>\n",
              "      <th>0</th>\n",
              "      <td>10142561</td>\n",
              "      <td>2020-05-11</td>\n",
              "      <td>Masculino</td>\n",
              "      <td>1992-01-12</td>\n",
              "      <td>peixe</td>\n",
              "      <td>quente</td>\n",
              "      <td>Chá</td>\n",
              "      <td>Pintar quadros</td>\n",
              "    </tr>\n",
              "    <tr>\n",
              "      <th>1</th>\n",
              "      <td>10142954</td>\n",
              "      <td>2020-05-11</td>\n",
              "      <td>Masculino</td>\n",
              "      <td>1999-05-17</td>\n",
              "      <td>gato</td>\n",
              "      <td>frio</td>\n",
              "      <td>Chá</td>\n",
              "      <td>Praticar esporte</td>\n",
              "    </tr>\n",
              "    <tr>\n",
              "      <th>2</th>\n",
              "      <td>10143177</td>\n",
              "      <td>2020-05-11</td>\n",
              "      <td>Masculino</td>\n",
              "      <td>1972-11-18</td>\n",
              "      <td>cachorro</td>\n",
              "      <td>moderado</td>\n",
              "      <td>Chá</td>\n",
              "      <td>Pintar quadros</td>\n",
              "    </tr>\n",
              "    <tr>\n",
              "      <th>3</th>\n",
              "      <td>10143525</td>\n",
              "      <td>2020-05-11</td>\n",
              "      <td>Feminino</td>\n",
              "      <td>1969-03-19</td>\n",
              "      <td>tartaruga</td>\n",
              "      <td>frio</td>\n",
              "      <td>Café</td>\n",
              "      <td>Aprender algo novo</td>\n",
              "    </tr>\n",
              "    <tr>\n",
              "      <th>0</th>\n",
              "      <td>10142020</td>\n",
              "      <td>2020-12-21</td>\n",
              "      <td>Feminino</td>\n",
              "      <td>1973-08-02</td>\n",
              "      <td>gato</td>\n",
              "      <td>quente</td>\n",
              "      <td>refrigerante</td>\n",
              "      <td>Dormir</td>\n",
              "    </tr>\n",
              "    <tr>\n",
              "      <th>1</th>\n",
              "      <td>10142211</td>\n",
              "      <td>2020-12-21</td>\n",
              "      <td>Masculino</td>\n",
              "      <td>1995-12-16</td>\n",
              "      <td>peixe</td>\n",
              "      <td>frio</td>\n",
              "      <td>Água</td>\n",
              "      <td>Assistir TV</td>\n",
              "    </tr>\n",
              "  </tbody>\n",
              "</table>\n",
              "</div>\n",
              "      <button class=\"colab-df-convert\" onclick=\"convertToInteractive('df-4fe52883-f59d-4161-a151-cf847305e62f')\"\n",
              "              title=\"Convert this dataframe to an interactive table.\"\n",
              "              style=\"display:none;\">\n",
              "        \n",
              "  <svg xmlns=\"http://www.w3.org/2000/svg\" height=\"24px\"viewBox=\"0 0 24 24\"\n",
              "       width=\"24px\">\n",
              "    <path d=\"M0 0h24v24H0V0z\" fill=\"none\"/>\n",
              "    <path d=\"M18.56 5.44l.94 2.06.94-2.06 2.06-.94-2.06-.94-.94-2.06-.94 2.06-2.06.94zm-11 1L8.5 8.5l.94-2.06 2.06-.94-2.06-.94L8.5 2.5l-.94 2.06-2.06.94zm10 10l.94 2.06.94-2.06 2.06-.94-2.06-.94-.94-2.06-.94 2.06-2.06.94z\"/><path d=\"M17.41 7.96l-1.37-1.37c-.4-.4-.92-.59-1.43-.59-.52 0-1.04.2-1.43.59L10.3 9.45l-7.72 7.72c-.78.78-.78 2.05 0 2.83L4 21.41c.39.39.9.59 1.41.59.51 0 1.02-.2 1.41-.59l7.78-7.78 2.81-2.81c.8-.78.8-2.07 0-2.86zM5.41 20L4 18.59l7.72-7.72 1.47 1.35L5.41 20z\"/>\n",
              "  </svg>\n",
              "      </button>\n",
              "      \n",
              "  <style>\n",
              "    .colab-df-container {\n",
              "      display:flex;\n",
              "      flex-wrap:wrap;\n",
              "      gap: 12px;\n",
              "    }\n",
              "\n",
              "    .colab-df-convert {\n",
              "      background-color: #E8F0FE;\n",
              "      border: none;\n",
              "      border-radius: 50%;\n",
              "      cursor: pointer;\n",
              "      display: none;\n",
              "      fill: #1967D2;\n",
              "      height: 32px;\n",
              "      padding: 0 0 0 0;\n",
              "      width: 32px;\n",
              "    }\n",
              "\n",
              "    .colab-df-convert:hover {\n",
              "      background-color: #E2EBFA;\n",
              "      box-shadow: 0px 1px 2px rgba(60, 64, 67, 0.3), 0px 1px 3px 1px rgba(60, 64, 67, 0.15);\n",
              "      fill: #174EA6;\n",
              "    }\n",
              "\n",
              "    [theme=dark] .colab-df-convert {\n",
              "      background-color: #3B4455;\n",
              "      fill: #D2E3FC;\n",
              "    }\n",
              "\n",
              "    [theme=dark] .colab-df-convert:hover {\n",
              "      background-color: #434B5C;\n",
              "      box-shadow: 0px 1px 3px 1px rgba(0, 0, 0, 0.15);\n",
              "      filter: drop-shadow(0px 1px 2px rgba(0, 0, 0, 0.3));\n",
              "      fill: #FFFFFF;\n",
              "    }\n",
              "  </style>\n",
              "\n",
              "      <script>\n",
              "        const buttonEl =\n",
              "          document.querySelector('#df-4fe52883-f59d-4161-a151-cf847305e62f button.colab-df-convert');\n",
              "        buttonEl.style.display =\n",
              "          google.colab.kernel.accessAllowed ? 'block' : 'none';\n",
              "\n",
              "        async function convertToInteractive(key) {\n",
              "          const element = document.querySelector('#df-4fe52883-f59d-4161-a151-cf847305e62f');\n",
              "          const dataTable =\n",
              "            await google.colab.kernel.invokeFunction('convertToInteractive',\n",
              "                                                     [key], {});\n",
              "          if (!dataTable) return;\n",
              "\n",
              "          const docLinkHtml = 'Like what you see? Visit the ' +\n",
              "            '<a target=\"_blank\" href=https://colab.research.google.com/notebooks/data_table.ipynb>data table notebook</a>'\n",
              "            + ' to learn more about interactive tables.';\n",
              "          element.innerHTML = '';\n",
              "          dataTable['output_type'] = 'display_data';\n",
              "          await google.colab.output.renderOutput(dataTable, element);\n",
              "          const docLink = document.createElement('div');\n",
              "          docLink.innerHTML = docLinkHtml;\n",
              "          element.appendChild(docLink);\n",
              "        }\n",
              "      </script>\n",
              "    </div>\n",
              "  </div>\n",
              "  "
            ]
          },
          "metadata": {},
          "execution_count": 11
        }
      ]
    },
    {
      "cell_type": "markdown",
      "source": [
        "## Exportando dados para arquivos"
      ],
      "metadata": {
        "id": "UDzzc29FgsEE"
      }
    },
    {
      "cell_type": "code",
      "source": [
        "df_vendas.to_csv('vendas_por_data.csv', sep='|', encoding='latin-1', index=False)"
      ],
      "metadata": {
        "id": "0HcCKuH2finc"
      },
      "execution_count": 13,
      "outputs": []
    },
    {
      "cell_type": "code",
      "source": [],
      "metadata": {
        "id": "yBZh_UOQhHuL"
      },
      "execution_count": null,
      "outputs": []
    }
  ]
}